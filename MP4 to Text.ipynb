{
 "cells": [
  {
   "cell_type": "markdown",
   "id": "da483b96",
   "metadata": {},
   "source": [
    "# Install and import modules"
   ]
  },
  {
   "cell_type": "code",
   "execution_count": 1,
   "id": "0b72ba58",
   "metadata": {},
   "outputs": [],
   "source": [
    "# pip install ffmpeg-python"
   ]
  },
  {
   "cell_type": "code",
   "execution_count": 2,
   "id": "dad738ea",
   "metadata": {},
   "outputs": [],
   "source": [
    "# pip install SpeechRecognition"
   ]
  },
  {
   "cell_type": "code",
   "execution_count": 3,
   "id": "e7cab72d",
   "metadata": {},
   "outputs": [],
   "source": [
    "import os\n",
    "import speech_recognition as sr\n",
    "import ffmpeg"
   ]
  },
  {
   "cell_type": "markdown",
   "id": "f260713b",
   "metadata": {},
   "source": [
    "# Declare project location and location of ffmpeg exe"
   ]
  },
  {
   "cell_type": "code",
   "execution_count": 4,
   "id": "9e15adde",
   "metadata": {},
   "outputs": [],
   "source": [
    "ffmpeg_home = 'C:/FFMPEG/bin/ffmpeg'\n",
    "current_directory = os.getcwd()\n",
    "input_video = 'Hera_aoe2.mp4'"
   ]
  },
  {
   "cell_type": "markdown",
   "id": "3e35b9d2",
   "metadata": {},
   "source": [
    "# Convert mp4 to mp3 using os.system and ffmpeg"
   ]
  },
  {
   "cell_type": "code",
   "execution_count": 5,
   "id": "510c3175",
   "metadata": {},
   "outputs": [
    {
     "data": {
      "text/plain": [
       "1"
      ]
     },
     "execution_count": 5,
     "metadata": {},
     "output_type": "execute_result"
    }
   ],
   "source": [
    "# Convert mp4 to mp3\n",
    "ffmpeg = f'{ffmpeg_home} -i {current_directory}/{input_video} {current_directory}/processed.mp3'\n",
    "os.system(ffmpeg)"
   ]
  },
  {
   "cell_type": "markdown",
   "id": "83843fb1",
   "metadata": {},
   "source": [
    "# Convert mp3 to wav using os.system and ffmpeg"
   ]
  },
  {
   "cell_type": "code",
   "execution_count": 6,
   "id": "c8d73fda",
   "metadata": {},
   "outputs": [
    {
     "data": {
      "text/plain": [
       "1"
      ]
     },
     "execution_count": 6,
     "metadata": {},
     "output_type": "execute_result"
    }
   ],
   "source": [
    "# Convert mp3 to wav\n",
    "ffmpeg_wav = f'{ffmpeg_home} -i {current_directory}/processed.mp3 {current_directory}/processed.wav'\n",
    "os.system(ffmpeg_wav)"
   ]
  },
  {
   "cell_type": "markdown",
   "id": "ae181e10",
   "metadata": {},
   "source": [
    "# Declare recogniser and audio variables"
   ]
  },
  {
   "cell_type": "code",
   "execution_count": 7,
   "id": "1e437a0c",
   "metadata": {},
   "outputs": [],
   "source": [
    "r = sr.Recognizer()\n",
    "audio = sr.AudioFile('processed.wav')"
   ]
  },
  {
   "cell_type": "markdown",
   "id": "26f81f48",
   "metadata": {},
   "source": [
    "# Output text for first 90 seconds"
   ]
  },
  {
   "cell_type": "code",
   "execution_count": 8,
   "id": "5ef69466",
   "metadata": {},
   "outputs": [],
   "source": [
    "Video_duration = 90"
   ]
  },
  {
   "cell_type": "code",
   "execution_count": 9,
   "id": "4dd93e7b",
   "metadata": {},
   "outputs": [],
   "source": [
    "with audio as source:\n",
    "    audio = r.record(source, duration=Video_duration)\n",
    "    text = r.recognize_google(audio)"
   ]
  },
  {
   "cell_type": "code",
   "execution_count": 10,
   "id": "3a5ab306",
   "metadata": {},
   "outputs": [
    {
     "name": "stdout",
     "output_type": "stream",
     "text": [
      "hello everyone and welcome back in the video today we will be doing a very very interesting video and wonder about myself it's a brand new coaching program and this video will be picked it out will I feel on Twitch as well so if you're free to say hi YouTube in the chat if you're watching life and weakness on YouTube late about welcome and when you get through the entire coaching program and let you know what's available this is of course for me you guys and available for absolutely everyone so if you are looking to improve the game you're in the right spot asking why coaching well that is I give free guides on YouTube everyone can benefit from the free guys everyone can watch them but sometimes because he went past you is such a complicated game the so many details so many it depends that sometimes you need a little bit of a closer look at your gameplay to understand what you doing right and what you doing wrong and how to improve and how to get to the next step into the next level so coaching can be a really good way to give target advice and you really help you know where to go from here to the coaching programme first ever had it all written out on discord and show you guys were quick and go Henry the announcement with the guys and just break it down so I'm happy as my brand new coaching program to talk about that goes to help up-and-coming players get the next step as well as provide targeted advice for those looking to up your game and providing multiple services below stick to one that's due to the best the program is open to all you loads I can promise patient\n"
     ]
    }
   ],
   "source": [
    "print(text)"
   ]
  },
  {
   "cell_type": "code",
   "execution_count": null,
   "id": "2c2b97f2",
   "metadata": {},
   "outputs": [],
   "source": []
  }
 ],
 "metadata": {
  "kernelspec": {
   "display_name": "Python 3 (ipykernel)",
   "language": "python",
   "name": "python3"
  },
  "language_info": {
   "codemirror_mode": {
    "name": "ipython",
    "version": 3
   },
   "file_extension": ".py",
   "mimetype": "text/x-python",
   "name": "python",
   "nbconvert_exporter": "python",
   "pygments_lexer": "ipython3",
   "version": "3.7.4"
  }
 },
 "nbformat": 4,
 "nbformat_minor": 5
}
