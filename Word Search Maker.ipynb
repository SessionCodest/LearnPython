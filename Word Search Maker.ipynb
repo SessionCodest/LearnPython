{
 "cells": [
  {
   "cell_type": "markdown",
   "metadata": {},
   "source": [
    "# Word search generator 1.0\n",
    "This algorithm will continuously try and fit words into a specified grid range. If it does not succeeed after 100 retries it will give an error result"
   ]
  },
  {
   "cell_type": "code",
   "execution_count": 1,
   "metadata": {},
   "outputs": [
    {
     "name": "stdout",
     "output_type": "stream",
     "text": [
      "Recommended number of words for grid size:  20.0\n"
     ]
    }
   ],
   "source": [
    "word_list = [\"DOG\", \"CAT\", \"SALAMANDER\", \"MOOSE\", \"EAGLE\", \"CHICKEN\", \"BAT\",\n",
    "            \"GOAT\", \"LION\", \"TIGER\",\"GIRAFFE\"]\n",
    "\n",
    "title = 'Popular animals search'\n",
    "width = 20\n",
    "height = 20\n",
    "hints_per_row = 5\n",
    "\n",
    "# assuming 8 characters per word and half the space available this is recommended words to insert\n",
    "print(\"Recommended number of words for grid size: \",(width*height/8)/2.5)"
   ]
  },
  {
   "cell_type": "markdown",
   "metadata": {},
   "source": [
    "## Algorithm"
   ]
  },
  {
   "cell_type": "code",
   "execution_count": 2,
   "metadata": {},
   "outputs": [
    {
     "name": "stdout",
     "output_type": "stream",
     "text": [
      " \n",
      "_____________________________BRUTEFORCE_WORD_ALLOCATOR___________________________________\n",
      " \n",
      "DOG  inserted at  [8, 12]\n",
      "NEKCIHC  inserted at  [12, 1]\n",
      "NOIL  inserted at  [14, 3]\n",
      "REGIT  inserted at  [6, 8]\n",
      "EAGLE  inserted at  [1, 9]\n",
      "GIRAFFE  inserted at  [9, 4]\n",
      "GOAT  inserted at  [2, 2]\n",
      "TAC  inserted at  [7, 6]\n",
      "ESOOM  inserted at  [7, 10]\n",
      "BAT  inserted at  [7, 13]\n",
      "Cannot place:  REDNAMALAS\n",
      "retrying...\n",
      "REDNAMALAS  inserted at  [9, 19]\n",
      " \n",
      "_____________________________________WORD_LIST___________________________________________\n",
      "DOG\n",
      "CHICKEN\n",
      "LION\n",
      "TIGER\n",
      "EAGLE\n",
      "GIRAFFE\n",
      "GOAT\n",
      "CAT\n",
      "MOOSE\n",
      "BAT\n",
      "SALAMANDER\n",
      "________________________________WORD_SEARCH_GENERATED_____________________________________\n",
      " \n",
      "Z  A  K  R  A  R  O  G  Y  J  Y  F  G  L  M  C  G  E  R  W\n",
      "A  F  Q  E  M  Q  I  A  M  J  Y  R  N  E  K  C  I  H  C  S\n",
      "O  Z  G  O  A  T  N  X  J  L  P  H  V  Y  L  U  T  K  B  F\n",
      "Z  N  Y  N  U  V  W  Q  C  F  Y  F  Z  X  N  I  U  R  E  F\n",
      "U  A  G  A  A  N  E  Z  A  G  D  D  F  C  H  O  D  R  R  Z\n",
      "D  O  X  M  V  J  T  G  V  Q  I  Y  S  X  I  H  I  L  R  J\n",
      "B  A  Q  A  M  W  F  T  A  C  Z  R  K  K  P  A  L  L  W  H\n",
      "J  R  R  L  Y  T  F  F  O  N  X  P  A  A  J  T  A  T  H  D\n",
      "M  N  D  A  B  J  R  V  M  G  Z  U  J  F  K  O  E  H  W  T\n",
      "M  E  Z  S  P  X  E  L  G  H  Y  H  M  Y  F  O  E  Z  A  Q\n",
      "E  X  A  U  Z  F  G  E  S  O  O  M  Q  Y  W  E  U  O  Y  M\n",
      "S  Q  U  G  J  B  I  S  Q  Y  V  R  C  J  L  M  A  X  W  H\n",
      "T  Q  O  B  L  A  T  V  D  C  Z  L  P  A  J  V  T  X  U  A\n",
      "Z  F  I  L  J  E  M  B  L  O  X  Q  C  S  Q  F  K  I  U  D\n",
      "Y  I  E  F  S  V  E  A  P  K  G  Q  J  V  M  G  N  C  E  P\n",
      "M  I  L  V  A  U  L  T  G  T  G  V  G  Z  N  M  K  M  F  C\n",
      "G  M  S  X  Q  X  C  K  B  Y  M  M  Y  Y  P  Z  Y  X  M  Z\n",
      "Y  S  Y  M  W  S  L  M  M  G  I  E  U  W  Y  D  Z  J  R  O\n",
      "O  C  U  R  R  Z  K  L  V  B  W  H  B  V  P  J  P  H  N  L\n",
      "Q  T  S  Y  Y  J  F  W  P  R  E  D  N  A  M  A  L  A  S  V\n"
     ]
    }
   ],
   "source": [
    "import string\n",
    "import random\n",
    "\n",
    "already_taken = []\n",
    "errors = []\n",
    "word_list = list(set(word_list))\n",
    "def put_word(word, grid, already_taken, errors):\n",
    "    word = random.choice([word,word[::-1]])\n",
    "    d = random.choice([[1,0],[0,1],[1,1]])\n",
    "\n",
    "    xsize = width if d[0] == 0 else width - len(word)\n",
    "    ysize = width if d[1] == 0 else height - len(word)\n",
    "\n",
    "    x = random.randrange(0,xsize)\n",
    "    y = random.randrange(0,ysize)\n",
    "    problem = []\n",
    "    for i in range(0, len(word)):\n",
    "        y_pos = y + d[1]*i\n",
    "        x_pos = x+d[0]*i\n",
    "        check = ([y_pos],[x_pos])\n",
    "        if check in already_taken:\n",
    "            problem.append(word)\n",
    "            pass\n",
    "        else:\n",
    "            already_taken.append(check)\n",
    "            grid[y_pos][x_pos] = word[i]\n",
    "    if len(problem) == 0:\n",
    "        print(word, \" inserted at \", [x,y]) \n",
    "    else: \n",
    "        print(\"Cannot place: \", word)\n",
    "        errors.append(1)\n",
    "    \n",
    "    return grid, errors\n",
    "    \n",
    "\n",
    "grid = [[random.choice(string.ascii_uppercase) for i in range(0,width)] for j in range(0,height)]\n",
    "print(\" \")\n",
    "print(\"_____________________________BRUTEFORCE_WORD_ALLOCATOR___________________________________\")\n",
    "print(\" \")\n",
    "\n",
    "for word in word_list:\n",
    "    stop = 0\n",
    "    errors = []\n",
    "    grid, errors = put_word(word, grid, already_taken, errors)\n",
    "    while sum(errors)>0 and stop<100:\n",
    "        errors = []\n",
    "        print(\"retrying...\")\n",
    "        grid, errors = put_word(word, grid, already_taken, errors)\n",
    "        stop+=1\n",
    "    else:\n",
    "        pass\n",
    "\n",
    "print(\" \")\n",
    "print(\"_____________________________________WORD_LIST___________________________________________\")\n",
    "for i in word_list:\n",
    "    print(i)\n",
    "    \n",
    "print(\"________________________________WORD_SEARCH_GENERATED_____________________________________\")\n",
    "print(\" \")\n",
    "print(\"\\n\".join(map(lambda row: \"  \".join(row), grid)))"
   ]
  },
  {
   "cell_type": "code",
   "execution_count": 3,
   "metadata": {},
   "outputs": [],
   "source": [
    "for i in grid:\n",
    "    x = \" \".join(i)\n",
    "\n"
   ]
  },
  {
   "cell_type": "code",
   "execution_count": 4,
   "metadata": {},
   "outputs": [],
   "source": [
    "# pip install fpdf"
   ]
  },
  {
   "cell_type": "code",
   "execution_count": 6,
   "metadata": {},
   "outputs": [
    {
     "data": {
      "text/plain": [
       "''"
      ]
     },
     "execution_count": 6,
     "metadata": {},
     "output_type": "execute_result"
    }
   ],
   "source": [
    "from fpdf import FPDF\n",
    "\n",
    "pdf = FPDF(orientation = 'P',unit = 'mm', format='A4')\n",
    " \n",
    "gridx = 200\n",
    "gridy = 8\n",
    "    \n",
    "# Add a page\n",
    "pdf.add_page()\n",
    " \n",
    "# set style and size of font\n",
    "# that you want in the pdf\n",
    "pdf.set_font(\"Arial\", size = 25)\n",
    "title = title.upper()\n",
    "pdf.cell(gridx, gridy, txt = title, ln = 1, align = 'C')\n",
    "\n",
    "\n",
    "pdf.set_font(\"Courier\", size = 12)\n",
    "pdf.cell(gridx, gridy, txt = \"\", ln = 1) \n",
    "# create a cell\n",
    "for i in grid:\n",
    "    x = \"  \".join(i)\n",
    "    pdf.cell(gridx, gridy, txt = x, ln = 1, align = 'C')\n",
    "\n",
    "pdf.cell(gridx, gridy, txt = \"\", ln = 1)    \n",
    "pdf.set_font(\"Arial\", size = 25)\n",
    "pdf.cell(gridx, 10, txt = \"Word List\", ln = 1, align = 'C')\n",
    "    \n",
    "pdf.set_font(\"Courier\", size = 12)\n",
    "pdf.cell(gridx, gridy, txt = \"\", ln = 1) \n",
    "hints_per_row = 5\n",
    "split_lists = [word_list[x:x+hints_per_row] for x in range(0, len(word_list), hints_per_row)]\n",
    "for i in split_lists:\n",
    "    wordx = \", \".join(i)\n",
    "    pdf.cell(gridx, 10, txt = wordx, ln = 1, align = 'C')   \n",
    "    \n",
    "# save the pdf with name .pdf\n",
    "pdf.output(\"WORD_SEARCH1.pdf\")  "
   ]
  },
  {
   "cell_type": "code",
   "execution_count": null,
   "metadata": {},
   "outputs": [],
   "source": []
  },
  {
   "cell_type": "code",
   "execution_count": null,
   "metadata": {},
   "outputs": [],
   "source": []
  }
 ],
 "metadata": {
  "kernelspec": {
   "display_name": "Python 3",
   "language": "python",
   "name": "python3"
  },
  "language_info": {
   "codemirror_mode": {
    "name": "ipython",
    "version": 3
   },
   "file_extension": ".py",
   "mimetype": "text/x-python",
   "name": "python",
   "nbconvert_exporter": "python",
   "pygments_lexer": "ipython3",
   "version": "3.7.4"
  }
 },
 "nbformat": 4,
 "nbformat_minor": 2
}
